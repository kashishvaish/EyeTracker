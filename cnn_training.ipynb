{
 "cells": [
  {
   "cell_type": "code",
   "execution_count": 1,
   "id": "6c6ee683",
   "metadata": {},
   "outputs": [],
   "source": [
    "import pandas as pd\n",
    "from sklearn.model_selection import train_test_split\n",
    "import numpy as np\n",
    "import cv2\n",
    "import os\n",
    "from keras.utils import np_utils"
   ]
  },
  {
   "cell_type": "code",
   "execution_count": 2,
   "id": "4c553d10",
   "metadata": {},
   "outputs": [],
   "source": [
    "IMG_SIZE = 100\n",
    "x = [] #features\n",
    "y = [] #labels\n",
    "source = 'left_eyes_data'\n",
    "for filename in os.listdir(source):\n",
    "    string = filename.split(\".\")\n",
    "    img = cv2.imread(os.path.join(source,filename))\n",
    "    img = cv2.cvtColor(img, cv2.COLOR_BGR2GRAY)\n",
    "    x.append(img)\n",
    "    y.append([int(string[0]), int(string[1])])"
   ]
  },
  {
   "cell_type": "code",
   "execution_count": 17,
   "id": "5f4574e0",
   "metadata": {},
   "outputs": [],
   "source": [
    "x = np.array(x).reshape(len(x), 100, 100, 1)\n",
    "x = x.astype('float32')\n",
    "x /= 255"
   ]
  },
  {
   "cell_type": "code",
   "execution_count": 18,
   "id": "dfa51718",
   "metadata": {},
   "outputs": [],
   "source": [
    "y = np.array(y)"
   ]
  },
  {
   "cell_type": "code",
   "execution_count": 19,
   "id": "92ee2595",
   "metadata": {},
   "outputs": [
    {
     "data": {
      "text/plain": [
       "array([[[4.7040735e-06],\n",
       "        [4.6437649e-06],\n",
       "        [4.5834563e-06],\n",
       "        ...,\n",
       "        [4.7040735e-06],\n",
       "        [4.8246907e-06],\n",
       "        [4.8849993e-06]],\n",
       "\n",
       "       [[4.6437649e-06],\n",
       "        [4.5834563e-06],\n",
       "        [4.5231477e-06],\n",
       "        ...,\n",
       "        [4.6437649e-06],\n",
       "        [4.7643821e-06],\n",
       "        [4.8246907e-06]],\n",
       "\n",
       "       [[4.5834563e-06],\n",
       "        [4.5231477e-06],\n",
       "        [4.4025301e-06],\n",
       "        ...,\n",
       "        [4.5231477e-06],\n",
       "        [4.5834563e-06],\n",
       "        [4.6437649e-06]],\n",
       "\n",
       "       ...,\n",
       "\n",
       "       [[6.6942580e-06],\n",
       "        [6.6942580e-06],\n",
       "        [6.7545666e-06],\n",
       "        ...,\n",
       "        [6.3324060e-06],\n",
       "        [6.2720974e-06],\n",
       "        [6.2720974e-06]],\n",
       "\n",
       "       [[6.7545666e-06],\n",
       "        [6.7545666e-06],\n",
       "        [6.8148752e-06],\n",
       "        ...,\n",
       "        [6.3927146e-06],\n",
       "        [6.3324060e-06],\n",
       "        [6.3324060e-06]],\n",
       "\n",
       "       [[6.8148752e-06],\n",
       "        [6.8148752e-06],\n",
       "        [6.8751838e-06],\n",
       "        ...,\n",
       "        [6.3927146e-06],\n",
       "        [6.3324060e-06],\n",
       "        [6.3324060e-06]]], dtype=float32)"
      ]
     },
     "execution_count": 19,
     "metadata": {},
     "output_type": "execute_result"
    }
   ],
   "source": [
    "x[0]"
   ]
  },
  {
   "cell_type": "code",
   "execution_count": 20,
   "id": "fe00c0b4",
   "metadata": {},
   "outputs": [
    {
     "data": {
      "text/plain": [
       "array([0, 0])"
      ]
     },
     "execution_count": 20,
     "metadata": {},
     "output_type": "execute_result"
    }
   ],
   "source": [
    "y[0]"
   ]
  },
  {
   "cell_type": "code",
   "execution_count": 21,
   "id": "ac53dcd0",
   "metadata": {},
   "outputs": [],
   "source": [
    "x_train, x_test, y_train, y_test = train_test_split(x, y, test_size=0.3, random_state=42)"
   ]
  },
  {
   "cell_type": "code",
   "execution_count": 22,
   "id": "811d06b3",
   "metadata": {},
   "outputs": [
    {
     "name": "stdout",
     "output_type": "stream",
     "text": [
      "x-train:  (19588, 100, 100, 1)\n",
      "x-test:  (8396, 100, 100, 1)\n",
      "y-train:  (19588, 2)\n",
      "y-test:  (8396, 2)\n"
     ]
    }
   ],
   "source": [
    "print(\"x-train: \", x_train.shape)\n",
    "print(\"x-test: \", x_test.shape)\n",
    "print(\"y-train: \", y_train.shape)\n",
    "print(\"y-test: \", y_test.shape)"
   ]
  },
  {
   "cell_type": "code",
   "execution_count": 10,
   "id": "dccd1595",
   "metadata": {},
   "outputs": [],
   "source": [
    "import tensorflow as tf\n",
    "from keras.models import Sequential\n",
    "from keras.layers import Dense, Conv2D, MaxPooling2D, Flatten"
   ]
  },
  {
   "cell_type": "code",
   "execution_count": 23,
   "id": "e59e221f",
   "metadata": {},
   "outputs": [],
   "source": [
    "model = Sequential()\n",
    "\n",
    "model.add(Conv2D(32, (3, 3), padding='same', activation='relu', input_shape=(100, 100, 1)))\n",
    "model.add(MaxPooling2D(pool_size=(2, 2)))\n",
    "\n",
    "model.add(Conv2D(64, (3, 3), padding=\"same\", activation=\"relu\"))\n",
    "model.add(MaxPooling2D(pool_size=(2, 2)))\n",
    "\n",
    "model.add(Conv2D(128, (3, 3), padding=\"same\", activation=\"relu\"))\n",
    "model.add(MaxPooling2D(pool_size=(2, 2)))\n",
    "\n",
    "model.add(Flatten())\n",
    "\n",
    "model.add(Dense(32, input_dim=10000, kernel_initializer='he_uniform', activation='relu'))\n",
    "model.add(Dense(2, kernel_initializer='he_uniform'))"
   ]
  },
  {
   "cell_type": "code",
   "execution_count": 24,
   "id": "b3b99a72",
   "metadata": {},
   "outputs": [],
   "source": [
    "model.compile(loss='mae', optimizer='adam', metrics=['accuracy'])"
   ]
  },
  {
   "cell_type": "code",
   "execution_count": 25,
   "id": "eb128d7b",
   "metadata": {},
   "outputs": [
    {
     "name": "stdout",
     "output_type": "stream",
     "text": [
      "Epoch 1/3\n",
      "612/612 [==============================] - 1252s 2s/step - loss: 294.4173 - accuracy: 0.7697 - val_loss: 283.5503 - val_accuracy: 0.7670\n",
      "Epoch 2/3\n",
      "612/612 [==============================] - 943s 2s/step - loss: 285.1762 - accuracy: 0.7708 - val_loss: 283.7749 - val_accuracy: 0.7670\n",
      "Epoch 3/3\n",
      "612/612 [==============================] - 996s 2s/step - loss: 285.7248 - accuracy: 0.7706 - val_loss: 290.9488 - val_accuracy: 0.7670\n"
     ]
    },
    {
     "data": {
      "text/plain": [
       "<keras.callbacks.History at 0x1428e301610>"
      ]
     },
     "execution_count": 25,
     "metadata": {},
     "output_type": "execute_result"
    }
   ],
   "source": [
    "model.fit(x_train, y_train, batch_size=32, validation_data=(x_test, y_test), steps_per_epoch=len(x_train)//32, epochs=3)"
   ]
  },
  {
   "cell_type": "code",
   "execution_count": 26,
   "id": "1265a505",
   "metadata": {},
   "outputs": [],
   "source": [
    "y_test_pred = model.predict(x_test)"
   ]
  },
  {
   "cell_type": "code",
   "execution_count": 27,
   "id": "85ba4f86",
   "metadata": {},
   "outputs": [
    {
     "data": {
      "text/plain": [
       "array([[569.2554 , 202.46005],\n",
       "       [569.1974 , 202.43936],\n",
       "       [569.18506, 202.43512],\n",
       "       ...,\n",
       "       [569.2493 , 202.4579 ],\n",
       "       [569.23254, 202.45192],\n",
       "       [569.187  , 202.43571]], dtype=float32)"
      ]
     },
     "execution_count": 27,
     "metadata": {},
     "output_type": "execute_result"
    }
   ],
   "source": [
    "y_test_pred"
   ]
  },
  {
   "cell_type": "code",
   "execution_count": 28,
   "id": "77855e79",
   "metadata": {},
   "outputs": [
    {
     "data": {
      "text/plain": [
       "array([[ 778,    0],\n",
       "       [ 650,   76],\n",
       "       [ 842,  589],\n",
       "       ...,\n",
       "       [1021,  200],\n",
       "       [ 100,  600],\n",
       "       [ 541,    1]])"
      ]
     },
     "execution_count": 28,
     "metadata": {},
     "output_type": "execute_result"
    }
   ],
   "source": [
    "y_test"
   ]
  },
  {
   "cell_type": "code",
   "execution_count": 30,
   "id": "8e729c27",
   "metadata": {},
   "outputs": [
    {
     "name": "stdout",
     "output_type": "stream",
     "text": [
      "Saved model to disk\n"
     ]
    }
   ],
   "source": [
    "model_json = model.to_json()\n",
    "with open(\"cnn.json\", \"w\") as json_file:\n",
    "    json_file.write(model_json)\n",
    "\n",
    "model.save_weights(\"cnn.h5\")\n",
    "print(\"Saved model to disk\")"
   ]
  },
  {
   "cell_type": "code",
   "execution_count": 1,
   "id": "b4c2d99a",
   "metadata": {},
   "outputs": [
    {
     "name": "stdout",
     "output_type": "stream",
     "text": [
      "Loaded model from disk\n"
     ]
    }
   ],
   "source": [
    "from keras.models import model_from_json\n",
    "from tkinter import * \n",
    "import threading\n",
    "import pandas as pd\n",
    "import numpy as np\n",
    "import cv2\n",
    "import os\n",
    "\n",
    "json_file = open('cnn.json', 'r')\n",
    "loaded_model_json = json_file.read()\n",
    "json_file.close()\n",
    "loaded_model = model_from_json(loaded_model_json)\n",
    "\n",
    "loaded_model.load_weights(\"cnn.h5\")\n",
    "print(\"Loaded model from disk\")"
   ]
  },
  {
   "cell_type": "code",
   "execution_count": null,
   "id": "ab5bb596",
   "metadata": {},
   "outputs": [],
   "source": [
    "x_predict = 0\n",
    "y_predict = 0\n",
    "\n",
    "face_cascade = cv2.CascadeClassifier(cv2.data.haarcascades +'haarcascade_frontalface_default.xml')\n",
    "eye_cascade = cv2.CascadeClassifier(cv2.data.haarcascades +'haarcascade_eye.xml')\n",
    "\n",
    "cap = cv2.VideoCapture(0)\n",
    "_, img = cap.read()\n",
    "\n",
    "def show_frame():\n",
    "    global img, x_predict, y_predict\n",
    "    while True:\n",
    "        _, img = cap.read()\n",
    "        img = cv2.cvtColor(img, cv2.COLOR_BGR2GRAY)\n",
    "        faces = face_cascade.detectMultiScale(img, 1.3, 5)\n",
    "        for (x,y,w,h) in faces:\n",
    "            roi_gray = img[y:y+h, x:x+w]\n",
    "            eyes = eye_cascade.detectMultiScale(roi_gray, 1.3, 5) # detect eyes\n",
    "            width = np.size(roi_gray, 1) # get face frame width\n",
    "            height = np.size(roi_gray, 0) # get face frame height\n",
    "            for (x, y, w, h) in eyes:\n",
    "                if y > height / 2:\n",
    "                    pass\n",
    "                eyecenter = x + w / 2  # get the eye center\n",
    "                if eyecenter < width * 0.5:\n",
    "                    left_eye = roi_gray[y:y + h, x:x + w]\n",
    "                    left_eye = cv2.resize(left_eye, dsize=(100, 100))\n",
    "                    cv2.imshow(\"eye\", left_eye)\n",
    "                    left_eye = np.array(left_eye).reshape(-1, 100, 100, 1)\n",
    "                    left_eye = left_eye.astype('float32')\n",
    "                    left_eye /= 255\n",
    "                    prediction = loaded_model.predict([left_eye])\n",
    "                    x_predict = int(prediction[0][0])\n",
    "                    y_predict = int(prediction[0][1])\n",
    "        interrupt = cv2.waitKey(10)\n",
    "        if interrupt & 0xFF == 27: # esc key\n",
    "            break\n",
    "\n",
    "def tkinter_frame():\n",
    "    global myCanvas\n",
    "    frame = Tk()  \n",
    "    frame.attributes('-fullscreen',True) \n",
    "    \n",
    "    myCanvas = Canvas(frame)\n",
    "    myCanvas.pack(fill=BOTH, expand=True)\n",
    "    \n",
    "    frame.mainloop()\n",
    "\n",
    "def pointer():\n",
    "    global x_predict, y_predict\n",
    "    while True:\n",
    "        create_circle(x_predict, y_predict, 20)\n",
    "        \n",
    "def create_circle(x, y, r): #center coordinates, radius\n",
    "    global myCanvas, dot\n",
    "    x0 = x - r\n",
    "    y0 = y - r\n",
    "    x1 = x + r\n",
    "    y1 = y + r\n",
    "    try:\n",
    "        if dot:\n",
    "            myCanvas.delete(dot)\n",
    "    except:\n",
    "        pass\n",
    "    try:\n",
    "        dot = myCanvas.create_oval(x0, y0, x1, y1, fill=\"red\")  \n",
    "    except:\n",
    "        pass\n",
    "        \n",
    "\n",
    "t1 = threading.Thread(target=show_frame)\n",
    "t2 = threading.Thread(target=tkinter_frame)\n",
    "t3 = threading.Thread(target=pointer)\n",
    "\n",
    "# starting thread 1\n",
    "t1.start()\n",
    "# starting thread 2\n",
    "t2.start()\n",
    "t3.start()\n",
    "\n",
    "# wait until thread 1 is completely executed\n",
    "# t1.join()\n",
    "# wait until thread 2 is completely executed\n",
    "t2.join() \n",
    "t1.join()"
   ]
  },
  {
   "cell_type": "code",
   "execution_count": null,
   "id": "d68792d3",
   "metadata": {},
   "outputs": [],
   "source": []
  }
 ],
 "metadata": {
  "kernelspec": {
   "display_name": "Python 3",
   "language": "python",
   "name": "python3"
  },
  "language_info": {
   "codemirror_mode": {
    "name": "ipython",
    "version": 3
   },
   "file_extension": ".py",
   "mimetype": "text/x-python",
   "name": "python",
   "nbconvert_exporter": "python",
   "pygments_lexer": "ipython3",
   "version": "3.8.8"
  }
 },
 "nbformat": 4,
 "nbformat_minor": 5
}

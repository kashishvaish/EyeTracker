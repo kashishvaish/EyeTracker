{
 "cells": [
  {
   "cell_type": "code",
   "execution_count": 1,
   "id": "ab829732",
   "metadata": {},
   "outputs": [],
   "source": [
    "import pandas as pd\n",
    "from sklearn.model_selection import train_test_split\n",
    "import numpy as np\n",
    "import cv2\n",
    "import os\n",
    "from keras.utils import np_utils"
   ]
  },
  {
   "cell_type": "code",
   "execution_count": 2,
   "id": "173bf752",
   "metadata": {},
   "outputs": [
    {
     "name": "stderr",
     "output_type": "stream",
     "text": [
      "IOPub data rate exceeded.\n",
      "The notebook server will temporarily stop sending output\n",
      "to the client in order to avoid crashing it.\n",
      "To change this limit, set the config variable\n",
      "`--NotebookApp.iopub_data_rate_limit`.\n",
      "\n",
      "Current values:\n",
      "NotebookApp.iopub_data_rate_limit=1000000.0 (bytes/sec)\n",
      "NotebookApp.rate_limit_window=3.0 (secs)\n",
      "\n"
     ]
    }
   ],
   "source": [
    "IMG_SIZE = 100\n",
    "x = [] #features\n",
    "y = [] #labels\n",
    "source = 'left_eyes_data'\n",
    "for filename in os.listdir(source):\n",
    "    string = filename.split(\".\")\n",
    "    img = cv2.imread(os.path.join(source,filename))\n",
    "    img = cv2.cvtColor(img, cv2.COLOR_BGR2GRAY)\n",
    "    x.append(img)\n",
    "    y.append([int(string[0]), int(string[1])])\n",
    "print(x)\n",
    "print(y)"
   ]
  },
  {
   "cell_type": "code",
   "execution_count": 3,
   "id": "19529035",
   "metadata": {},
   "outputs": [],
   "source": [
    "x = np.array(x).reshape(len(x), 100*100*1)\n",
    "x = x.astype('float32')\n",
    "x /= 255"
   ]
  },
  {
   "cell_type": "code",
   "execution_count": 4,
   "id": "df75fe0f",
   "metadata": {},
   "outputs": [],
   "source": [
    "y = np.array(y)"
   ]
  },
  {
   "cell_type": "code",
   "execution_count": 5,
   "id": "27199800",
   "metadata": {},
   "outputs": [],
   "source": [
    "x_train, x_test, y_train, y_test = train_test_split(x, y, test_size=0.2)"
   ]
  },
  {
   "cell_type": "code",
   "execution_count": 6,
   "id": "746033fa",
   "metadata": {},
   "outputs": [
    {
     "data": {
      "text/plain": [
       "(22387, 10000)"
      ]
     },
     "execution_count": 6,
     "metadata": {},
     "output_type": "execute_result"
    }
   ],
   "source": [
    "x_train.shape"
   ]
  },
  {
   "cell_type": "code",
   "execution_count": 7,
   "id": "94ef2577",
   "metadata": {},
   "outputs": [
    {
     "data": {
      "text/plain": [
       "(22387, 2)"
      ]
     },
     "execution_count": 7,
     "metadata": {},
     "output_type": "execute_result"
    }
   ],
   "source": [
    "y_train.shape"
   ]
  },
  {
   "cell_type": "code",
   "execution_count": 8,
   "id": "50885b96",
   "metadata": {},
   "outputs": [
    {
     "data": {
      "text/plain": [
       "(5597, 10000)"
      ]
     },
     "execution_count": 8,
     "metadata": {},
     "output_type": "execute_result"
    }
   ],
   "source": [
    "x_test.shape"
   ]
  },
  {
   "cell_type": "code",
   "execution_count": 9,
   "id": "814a7372",
   "metadata": {},
   "outputs": [
    {
     "data": {
      "text/plain": [
       "(5597, 2)"
      ]
     },
     "execution_count": 9,
     "metadata": {},
     "output_type": "execute_result"
    }
   ],
   "source": [
    "y_test.shape"
   ]
  },
  {
   "cell_type": "code",
   "execution_count": 10,
   "id": "df566aae",
   "metadata": {},
   "outputs": [],
   "source": [
    "import tensorflow as tf\n",
    "from keras.models import Sequential\n",
    "from keras.layers import Dense"
   ]
  },
  {
   "cell_type": "code",
   "execution_count": 11,
   "id": "9a87c72c",
   "metadata": {},
   "outputs": [],
   "source": [
    "model = Sequential()\n",
    "model.add(Dense(32, input_dim=10000, kernel_initializer='he_uniform', activation='relu'))\n",
    "model.add(Dense(2, kernel_initializer='he_uniform'))\n",
    "model.compile(loss='mae', optimizer='adam', metrics=['accuracy'])"
   ]
  },
  {
   "cell_type": "code",
   "execution_count": 12,
   "id": "14a73154",
   "metadata": {},
   "outputs": [
    {
     "data": {
      "text/plain": [
       "<keras.callbacks.History at 0x150b570c8b0>"
      ]
     },
     "execution_count": 12,
     "metadata": {},
     "output_type": "execute_result"
    }
   ],
   "source": [
    "model.fit(x, y, verbose=0, epochs=100)"
   ]
  },
  {
   "cell_type": "code",
   "execution_count": 14,
   "id": "d66fbcbc",
   "metadata": {},
   "outputs": [
    {
     "name": "stdout",
     "output_type": "stream",
     "text": [
      "175/175 [==============================] - 15s 83ms/step - loss: 92.6764 - accuracy: 0.9073\n"
     ]
    },
    {
     "data": {
      "text/plain": [
       "[92.67642974853516, 0.9072717428207397]"
      ]
     },
     "execution_count": 14,
     "metadata": {},
     "output_type": "execute_result"
    }
   ],
   "source": [
    "model.evaluate(x = x_test, y = y_test)"
   ]
  },
  {
   "cell_type": "code",
   "execution_count": 15,
   "id": "44b63bf8",
   "metadata": {},
   "outputs": [],
   "source": [
    "predictions = model.predict(x_test)"
   ]
  },
  {
   "cell_type": "code",
   "execution_count": 16,
   "id": "d0bf1d4c",
   "metadata": {},
   "outputs": [
    {
     "data": {
      "text/plain": [
       "array([[ 160.13612 ,  264.13474 ],\n",
       "       [ 223.72658 ,  383.72552 ],\n",
       "       [ 271.00427 ,   54.652275],\n",
       "       ...,\n",
       "       [ 263.39917 ,  903.8475  ],\n",
       "       [ 437.5965  ,  101.9782  ],\n",
       "       [1154.7338  ,  254.35852 ]], dtype=float32)"
      ]
     },
     "execution_count": 16,
     "metadata": {},
     "output_type": "execute_result"
    }
   ],
   "source": [
    "predictions"
   ]
  },
  {
   "cell_type": "code",
   "execution_count": 17,
   "id": "901182f1",
   "metadata": {},
   "outputs": [
    {
     "data": {
      "text/plain": [
       "array([[  67,  126],\n",
       "       [ 260,  381],\n",
       "       [ 160,   61],\n",
       "       ...,\n",
       "       [ 160,  640],\n",
       "       [1320,  681],\n",
       "       [1186,  348]])"
      ]
     },
     "execution_count": 17,
     "metadata": {},
     "output_type": "execute_result"
    }
   ],
   "source": [
    "y_test"
   ]
  },
  {
   "cell_type": "code",
   "execution_count": 18,
   "id": "bbb485df",
   "metadata": {},
   "outputs": [
    {
     "name": "stdout",
     "output_type": "stream",
     "text": [
      "Saved model to disk\n"
     ]
    }
   ],
   "source": [
    "model_json = model.to_json()\n",
    "with open(\"reg.json\", \"w\") as json_file:\n",
    "    json_file.write(model_json)\n",
    "\n",
    "model.save_weights(\"reg.h5\")\n",
    "print(\"Saved model to disk\")"
   ]
  },
  {
   "cell_type": "code",
   "execution_count": 1,
   "id": "a8ce79bb",
   "metadata": {},
   "outputs": [
    {
     "name": "stdout",
     "output_type": "stream",
     "text": [
      "Loaded model from disk\n"
     ]
    }
   ],
   "source": [
    "from keras.models import model_from_json\n",
    "from tkinter import * \n",
    "import threading\n",
    "import pandas as pd\n",
    "import numpy as np\n",
    "import cv2\n",
    "import os\n",
    "\n",
    "json_file = open('reg.json', 'r')\n",
    "loaded_model_json = json_file.read()\n",
    "json_file.close()\n",
    "loaded_model = model_from_json(loaded_model_json)\n",
    "\n",
    "loaded_model.load_weights(\"reg.h5\")\n",
    "print(\"Loaded model from disk\")"
   ]
  },
  {
   "cell_type": "code",
   "execution_count": null,
   "id": "2b003936",
   "metadata": {},
   "outputs": [],
   "source": [
    "x_predict = 0\n",
    "y_predict = 0\n",
    "\n",
    "face_cascade = cv2.CascadeClassifier(cv2.data.haarcascades +'haarcascade_frontalface_default.xml')\n",
    "eye_cascade = cv2.CascadeClassifier(cv2.data.haarcascades +'haarcascade_eye.xml')\n",
    "\n",
    "cap = cv2.VideoCapture(0)\n",
    "_, img = cap.read()\n",
    "\n",
    "def show_frame():\n",
    "    global img, x_predict, y_predict\n",
    "    while True:\n",
    "        _, img = cap.read()\n",
    "        img = cv2.cvtColor(img, cv2.COLOR_BGR2GRAY)\n",
    "        faces = face_cascade.detectMultiScale(img, 1.3, 5)\n",
    "        for (x,y,w,h) in faces:\n",
    "            roi_gray = img[y:y+h, x:x+w]\n",
    "            eyes = eye_cascade.detectMultiScale(roi_gray, 1.3, 5) # detect eyes\n",
    "            width = np.size(roi_gray, 1) # get face frame width\n",
    "            height = np.size(roi_gray, 0) # get face frame height\n",
    "            for (x, y, w, h) in eyes:\n",
    "                if y > height / 2:\n",
    "                    pass\n",
    "                eyecenter = x + w / 2  # get the eye center\n",
    "                if eyecenter < width * 0.5:\n",
    "                    left_eye = roi_gray[y:y + h, x:x + w]\n",
    "                    left_eye = cv2.resize(left_eye, dsize=(100, 100))\n",
    "                    cv2.imshow(\"eye\", left_eye)\n",
    "                    left_eye = np.array(left_eye).reshape(-1, 10000)\n",
    "                    left_eye = left_eye.astype('float32')\n",
    "                    left_eye /= 255\n",
    "                    prediction = loaded_model.predict([left_eye])\n",
    "                    x_predict = prediction[0][0]\n",
    "                    y_predict = prediction[0][1]\n",
    "        interrupt = cv2.waitKey(10)\n",
    "        if interrupt & 0xFF == 27: # esc key\n",
    "            break\n",
    "\n",
    "def tkinter_frame():\n",
    "    global myCanvas\n",
    "    frame = Tk()  \n",
    "    frame.attributes('-fullscreen',True) \n",
    "    \n",
    "    myCanvas = Canvas(frame)\n",
    "    myCanvas.pack(fill=BOTH, expand=True)\n",
    "    \n",
    "    frame.mainloop()\n",
    "\n",
    "def pointer():\n",
    "    global x_predict, y_predict\n",
    "    while True:\n",
    "        create_circle(x_predict, y_predict, 20)\n",
    "        \n",
    "def create_circle(x, y, r): #center coordinates, radius\n",
    "    global myCanvas, dot\n",
    "    x0 = x - r\n",
    "    y0 = y - r\n",
    "    x1 = x + r\n",
    "    y1 = y + r\n",
    "    try:\n",
    "        if dot:\n",
    "            myCanvas.delete(dot)\n",
    "    except:\n",
    "        pass\n",
    "    try:\n",
    "        dot = myCanvas.create_oval(x0, y0, x1, y1, fill=\"red\")  \n",
    "    except:\n",
    "        pass\n",
    "        \n",
    "\n",
    "t1 = threading.Thread(target=show_frame)\n",
    "t2 = threading.Thread(target=tkinter_frame)\n",
    "t3 = threading.Thread(target=pointer)\n",
    "\n",
    "# starting thread 1\n",
    "t1.start()\n",
    "# starting thread 2\n",
    "t2.start()\n",
    "t3.start()\n",
    "\n",
    "# wait until thread 1 is completely executed\n",
    "# t1.join()\n",
    "# wait until thread 2 is completely executed\n",
    "t2.join() \n",
    "t1.join()"
   ]
  },
  {
   "cell_type": "code",
   "execution_count": null,
   "id": "d54f3063",
   "metadata": {},
   "outputs": [],
   "source": []
  }
 ],
 "metadata": {
  "kernelspec": {
   "display_name": "Python 3",
   "language": "python",
   "name": "python3"
  },
  "language_info": {
   "codemirror_mode": {
    "name": "ipython",
    "version": 3
   },
   "file_extension": ".py",
   "mimetype": "text/x-python",
   "name": "python",
   "nbconvert_exporter": "python",
   "pygments_lexer": "ipython3",
   "version": "3.8.8"
  }
 },
 "nbformat": 4,
 "nbformat_minor": 5
}

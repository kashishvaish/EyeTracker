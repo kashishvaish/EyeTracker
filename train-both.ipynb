{
 "cells": [
  {
   "cell_type": "code",
   "execution_count": 5,
   "id": "2e9ac09e",
   "metadata": {},
   "outputs": [],
   "source": [
    "import pandas as pd\n",
    "from sklearn.model_selection import train_test_split\n",
    "import numpy as np\n",
    "import cv2\n",
    "import os\n",
    "from keras.utils import np_utils"
   ]
  },
  {
   "cell_type": "code",
   "execution_count": 6,
   "id": "f8387ff0",
   "metadata": {},
   "outputs": [
    {
     "name": "stderr",
     "output_type": "stream",
     "text": [
      "IOPub data rate exceeded.\n",
      "The notebook server will temporarily stop sending output\n",
      "to the client in order to avoid crashing it.\n",
      "To change this limit, set the config variable\n",
      "`--NotebookApp.iopub_data_rate_limit`.\n",
      "\n",
      "Current values:\n",
      "NotebookApp.iopub_data_rate_limit=1000000.0 (bytes/sec)\n",
      "NotebookApp.rate_limit_window=3.0 (secs)\n",
      "\n"
     ]
    }
   ],
   "source": [
    "IMG_SIZE = 100\n",
    "training = []\n",
    "x = [] #features\n",
    "y = [] #labels\n",
    "source = 'botheyes'\n",
    "for filename in os.listdir(source):\n",
    "    string = filename.split(\".\")\n",
    "    img = cv2.imread(os.path.join(source,filename))\n",
    "    x.append(img)\n",
    "    y.append([int(string[0]), int(string[1])])\n",
    "    training.append([img, [int(string[0]), int(string[1])]])\n",
    "print(x)\n",
    "print(y)"
   ]
  },
  {
   "cell_type": "code",
   "execution_count": 7,
   "id": "9f13631b",
   "metadata": {},
   "outputs": [],
   "source": [
    "x = np.array(x).reshape(len(x), 100*100*2*3)\n",
    "x = x.astype('float32')\n",
    "x /= 255\n",
    "y = np.array(y)"
   ]
  },
  {
   "cell_type": "code",
   "execution_count": 14,
   "id": "3fa5db25",
   "metadata": {},
   "outputs": [],
   "source": [
    "x_train, x_test, y_train, y_test = train_test_split(x, y, test_size=0.2)"
   ]
  },
  {
   "cell_type": "code",
   "execution_count": 15,
   "id": "3825f7cc",
   "metadata": {},
   "outputs": [
    {
     "data": {
      "text/plain": [
       "(3417, 60000)"
      ]
     },
     "execution_count": 15,
     "metadata": {},
     "output_type": "execute_result"
    }
   ],
   "source": [
    "x_train.shape"
   ]
  },
  {
   "cell_type": "code",
   "execution_count": 16,
   "id": "e9e160a0",
   "metadata": {},
   "outputs": [
    {
     "data": {
      "text/plain": [
       "(3417, 2)"
      ]
     },
     "execution_count": 16,
     "metadata": {},
     "output_type": "execute_result"
    }
   ],
   "source": [
    "y_train.shape"
   ]
  },
  {
   "cell_type": "code",
   "execution_count": 17,
   "id": "af1e2761",
   "metadata": {},
   "outputs": [],
   "source": [
    "import tensorflow as tf\n",
    "from keras.models import Sequential\n",
    "from keras.layers import Dense"
   ]
  },
  {
   "cell_type": "code",
   "execution_count": 18,
   "id": "6bb093b5",
   "metadata": {},
   "outputs": [],
   "source": [
    "model = Sequential()\n",
    "model.add(Dense(32, input_dim=60000, kernel_initializer='he_uniform', activation='relu'))\n",
    "model.add(Dense(2, kernel_initializer='he_uniform'))\n",
    "model.compile(loss='mae', optimizer='adam', metrics=['accuracy'])"
   ]
  },
  {
   "cell_type": "code",
   "execution_count": 19,
   "id": "f830c118",
   "metadata": {},
   "outputs": [
    {
     "data": {
      "text/plain": [
       "<keras.callbacks.History at 0x20bf9cc0730>"
      ]
     },
     "execution_count": 19,
     "metadata": {},
     "output_type": "execute_result"
    }
   ],
   "source": [
    "model.fit(x, y, verbose=0, epochs=100)"
   ]
  },
  {
   "cell_type": "code",
   "execution_count": 20,
   "id": "96d9b4af",
   "metadata": {},
   "outputs": [
    {
     "name": "stdout",
     "output_type": "stream",
     "text": [
      "134/134 [==============================] - 17s 29ms/step - loss: 70.3195 - accuracy: 0.9239\n"
     ]
    },
    {
     "data": {
      "text/plain": [
       "[70.31949615478516, 0.9239231944084167]"
      ]
     },
     "execution_count": 20,
     "metadata": {},
     "output_type": "execute_result"
    }
   ],
   "source": [
    "model.evaluate(x = x, y = y)"
   ]
  },
  {
   "cell_type": "code",
   "execution_count": 4,
   "id": "f63929d1",
   "metadata": {},
   "outputs": [
    {
     "ename": "NameError",
     "evalue": "name 'model' is not defined",
     "output_type": "error",
     "traceback": [
      "\u001b[1;31m---------------------------------------------------------------------------\u001b[0m",
      "\u001b[1;31mNameError\u001b[0m                                 Traceback (most recent call last)",
      "\u001b[1;32m<ipython-input-4-6551796d9b48>\u001b[0m in \u001b[0;36m<module>\u001b[1;34m\u001b[0m\n\u001b[1;32m----> 1\u001b[1;33m \u001b[0mmodel\u001b[0m\u001b[1;33m.\u001b[0m\u001b[0mpredict\u001b[0m\u001b[1;33m(\u001b[0m\u001b[0mx_train\u001b[0m\u001b[1;33m[\u001b[0m\u001b[1;36m0\u001b[0m\u001b[1;33m]\u001b[0m\u001b[1;33m)\u001b[0m\u001b[1;33m\u001b[0m\u001b[1;33m\u001b[0m\u001b[0m\n\u001b[0m",
      "\u001b[1;31mNameError\u001b[0m: name 'model' is not defined"
     ]
    }
   ],
   "source": [
    "model.predict(x_train[0])"
   ]
  },
  {
   "cell_type": "code",
   "execution_count": 21,
   "id": "8b54c155",
   "metadata": {},
   "outputs": [],
   "source": [
    "predictions = model.predict(x_test)"
   ]
  },
  {
   "cell_type": "code",
   "execution_count": 22,
   "id": "16d8a188",
   "metadata": {},
   "outputs": [
    {
     "data": {
      "text/plain": [
       "array([[1189.4829  ,    8.702778],\n",
       "       [ 117.443504,   55.790173],\n",
       "       [  64.12434 ,  619.19855 ],\n",
       "       ...,\n",
       "       [ 315.7085  ,  321.36755 ],\n",
       "       [ 253.08966 ,  316.98312 ],\n",
       "       [ 375.78635 ,  767.09784 ]], dtype=float32)"
      ]
     },
     "execution_count": 22,
     "metadata": {},
     "output_type": "execute_result"
    }
   ],
   "source": [
    "predictions"
   ]
  },
  {
   "cell_type": "code",
   "execution_count": 23,
   "id": "ad85273f",
   "metadata": {},
   "outputs": [
    {
     "data": {
      "text/plain": [
       "array([[1216,   74],\n",
       "       [  60,   89],\n",
       "       [  51,  572],\n",
       "       ...,\n",
       "       [ 290,  376],\n",
       "       [   8,  300],\n",
       "       [ 228,  727]])"
      ]
     },
     "execution_count": 23,
     "metadata": {},
     "output_type": "execute_result"
    }
   ],
   "source": [
    "y_test"
   ]
  },
  {
   "cell_type": "code",
   "execution_count": 24,
   "id": "d2ab803b",
   "metadata": {},
   "outputs": [
    {
     "name": "stdout",
     "output_type": "stream",
     "text": [
      "Saved model to disk\n"
     ]
    }
   ],
   "source": [
    "model_json = model.to_json()\n",
    "with open(\"model_both.json\", \"w\") as json_file:\n",
    "    json_file.write(model_json)\n",
    "\n",
    "model.save_weights(\"model_both.h5\")\n",
    "print(\"Saved model to disk\")"
   ]
  },
  {
   "cell_type": "code",
   "execution_count": 25,
   "id": "aa8dee2e",
   "metadata": {},
   "outputs": [],
   "source": [
    "from keras.models import model_from_json"
   ]
  },
  {
   "cell_type": "code",
   "execution_count": 26,
   "id": "39b54f61",
   "metadata": {},
   "outputs": [
    {
     "name": "stdout",
     "output_type": "stream",
     "text": [
      "Loaded model from disk\n"
     ]
    }
   ],
   "source": [
    "json_file = open('model_both.json', 'r')\n",
    "loaded_model_json = json_file.read()\n",
    "json_file.close()\n",
    "loaded_model = model_from_json(loaded_model_json)\n",
    "\n",
    "loaded_model.load_weights(\"model_both.h5\")\n",
    "print(\"Loaded model from disk\")"
   ]
  },
  {
   "cell_type": "code",
   "execution_count": 1,
   "id": "898bf2c5",
   "metadata": {},
   "outputs": [],
   "source": [
    "from tkinter import * \n",
    "import threading\n",
    "import random"
   ]
  },
  {
   "cell_type": "code",
   "execution_count": 2,
   "id": "9787193f",
   "metadata": {},
   "outputs": [
    {
     "name": "stdout",
     "output_type": "stream",
     "text": [
      "Loaded model from disk\n"
     ]
    }
   ],
   "source": [
    "from keras.models import model_from_json\n",
    "from tkinter import * \n",
    "import threading\n",
    "import pandas as pd\n",
    "import numpy as np\n",
    "import cv2\n",
    "import os\n",
    "\n",
    "json_file = open('model.json', 'r')\n",
    "loaded_model_json = json_file.read()\n",
    "json_file.close()\n",
    "loaded_model = model_from_json(loaded_model_json)\n",
    "\n",
    "loaded_model.load_weights(\"model.h5\")\n",
    "print(\"Loaded model from disk\")"
   ]
  },
  {
   "cell_type": "code",
   "execution_count": 5,
   "id": "e680a260",
   "metadata": {},
   "outputs": [
    {
     "name": "stderr",
     "output_type": "stream",
     "text": [
      "Exception in thread Thread-12:\n",
      "Traceback (most recent call last):\n",
      "  File \"C:\\Users\\hp\\anaconda3\\lib\\threading.py\", line 932, in _bootstrap_inner\n",
      "    self.run()\n",
      "  File \"C:\\Users\\hp\\anaconda3\\lib\\threading.py\", line 870, in run\n",
      "    self._target(*self._args, **self._kwargs)\n",
      "  File \"<ipython-input-5-22acf8245dae>\", line 13, in show_frame\n",
      "cv2.error: OpenCV(4.5.3) C:\\Users\\runneradmin\\AppData\\Local\\Temp\\pip-req-build-q3d_8t8e\\opencv\\modules\\videoio\\src\\cap_msmf.cpp:427: error: (-215:Assertion failed) videoSample in function '`anonymous-namespace'::SourceReaderCB::Wait'\n",
      "\n"
     ]
    }
   ],
   "source": [
    "x_predict = 0\n",
    "y_predict = 0\n",
    "\n",
    "face_cascade = cv2.CascadeClassifier(cv2.data.haarcascades +'haarcascade_frontalface_default.xml')\n",
    "eye_cascade = cv2.CascadeClassifier(cv2.data.haarcascades +'haarcascade_eye.xml')\n",
    "\n",
    "cap = cv2.VideoCapture(0)\n",
    "_, img = cap.read()\n",
    "\n",
    "def show_frame():\n",
    "    global img, x_predict, y_predict\n",
    "    while True:\n",
    "        _, img = cap.read()\n",
    "        faces = face_cascade.detectMultiScale(img, 1.3, 5)\n",
    "        for (x,y,w,h) in faces:\n",
    "            roi_gray = img[y:y+h, x:x+w]\n",
    "            eyes = eye_cascade.detectMultiScale(roi_gray, 1.3, 5) # detect eyes\n",
    "            width = np.size(roi_gray, 1) # get face frame width\n",
    "            height = np.size(roi_gray, 0) # get face frame height\n",
    "            left_eye_status = False\n",
    "            right_eye_status = False\n",
    "            for (x, y, w, h) in eyes:\n",
    "                if y > height / 2:\n",
    "                    pass\n",
    "                eyecenter = x + w / 2  # get the eye center\n",
    "                if eyecenter < width * 0.5:\n",
    "                    left_eye = roi_gray[y:y + h, x:x + w]\n",
    "                    left_eye = cv2.resize(left_eye, dsize=(100, 100))\n",
    "                    left_eye_status = True\n",
    "                if eyecenter > width * 0.5:\n",
    "                    right_eye = roi_gray[y:y + h, x:x + w]\n",
    "                    right_eye = cv2.resize(right_eye, dsize=(100, 100))\n",
    "                    right_eye_status = True\n",
    "            if left_eye_status and right_eye_status:\n",
    "                eyes = cv2.hconcat([left_eye, right_eye])\n",
    "                eyes = cv2.cvtColor(eyes, cv2.COLOR_BGR2GRAY)\n",
    "                cv2.imshow(\"eye\", eyes)\n",
    "                eyes = np.array(eyes).reshape(-1, 30000)\n",
    "                eyes = eyes.astype('float32')\n",
    "                eyes /= 255\n",
    "                prediction = loaded_model.predict([eyes])\n",
    "                x_predict = prediction[0][0]\n",
    "                y_predict = prediction[0][1]\n",
    "        interrupt = cv2.waitKey(10)\n",
    "        if interrupt & 0xFF == 27: # esc key\n",
    "            break\n",
    "\n",
    "def tkinter_frame():\n",
    "    global myCanvas\n",
    "    frame = Tk()  \n",
    "    frame.attributes('-fullscreen',True) \n",
    "    \n",
    "    myCanvas = Canvas(frame)\n",
    "    myCanvas.pack(fill=BOTH, expand=True)\n",
    "    \n",
    "    frame.mainloop()\n",
    "\n",
    "def pointer():\n",
    "    global x_predict, y_predict\n",
    "    while True:\n",
    "        create_circle(x_predict, y_predict, 20)\n",
    "        \n",
    "def create_circle(x, y, r): #center coordinates, radius\n",
    "    global myCanvas\n",
    "    x0 = x - r\n",
    "    y0 = y - r\n",
    "    x1 = x + r\n",
    "    y1 = y + r\n",
    "    try:\n",
    "        dot = myCanvas.create_oval(x0, y0, x1, y1, fill=\"red\")  \n",
    "    except:\n",
    "        pass\n",
    "        \n",
    "\n",
    "t1 = threading.Thread(target=show_frame)\n",
    "t2 = threading.Thread(target=tkinter_frame)\n",
    "t3 = threading.Thread(target=pointer)\n",
    "\n",
    "# starting thread 1\n",
    "t1.start()\n",
    "# starting thread 2\n",
    "t2.start()\n",
    "t3.start()\n",
    "\n",
    "# wait until thread 1 is completely executed\n",
    "# t1.join()\n",
    "# wait until thread 2 is completely executed\n",
    "t2.join() "
   ]
  },
  {
   "cell_type": "code",
   "execution_count": null,
   "id": "d30d2a05",
   "metadata": {},
   "outputs": [],
   "source": []
  }
 ],
 "metadata": {
  "kernelspec": {
   "display_name": "Python 3",
   "language": "python",
   "name": "python3"
  },
  "language_info": {
   "codemirror_mode": {
    "name": "ipython",
    "version": 3
   },
   "file_extension": ".py",
   "mimetype": "text/x-python",
   "name": "python",
   "nbconvert_exporter": "python",
   "pygments_lexer": "ipython3",
   "version": "3.8.8"
  }
 },
 "nbformat": 4,
 "nbformat_minor": 5
}

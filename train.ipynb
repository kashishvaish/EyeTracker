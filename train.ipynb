{
 "cells": [
  {
   "cell_type": "code",
   "execution_count": 1,
   "id": "4686f0d3",
   "metadata": {},
   "outputs": [],
   "source": [
    "import pandas as pd\n",
    "from sklearn.model_selection import train_test_split\n",
    "import numpy as np\n",
    "import cv2\n",
    "import os\n",
    "from keras.utils import np_utils"
   ]
  },
  {
   "cell_type": "code",
   "execution_count": 2,
   "id": "4bbd578b",
   "metadata": {},
   "outputs": [
    {
     "name": "stderr",
     "output_type": "stream",
     "text": [
      "IOPub data rate exceeded.\n",
      "The notebook server will temporarily stop sending output\n",
      "to the client in order to avoid crashing it.\n",
      "To change this limit, set the config variable\n",
      "`--NotebookApp.iopub_data_rate_limit`.\n",
      "\n",
      "Current values:\n",
      "NotebookApp.iopub_data_rate_limit=1000000.0 (bytes/sec)\n",
      "NotebookApp.rate_limit_window=3.0 (secs)\n",
      "\n"
     ]
    }
   ],
   "source": [
    "IMG_SIZE = 100\n",
    "training = []\n",
    "x = [] #features\n",
    "y = [] #labels\n",
    "source = 'left_eyes_data'\n",
    "for filename in os.listdir(source):\n",
    "    string = filename.split(\".\")\n",
    "    img = cv2.imread(os.path.join(source,filename))\n",
    "    x.append(img)\n",
    "    y.append([int(string[0]), int(string[1])])\n",
    "    training.append([img, [int(string[0]), int(string[1])]])\n",
    "print(x)\n",
    "print(y)"
   ]
  },
  {
   "cell_type": "code",
   "execution_count": 4,
   "id": "6b139d75",
   "metadata": {},
   "outputs": [],
   "source": [
    "x = np.array(x).reshape(len(x), 100*100*3)\n",
    "x = x.astype('float32')\n",
    "x /= 255"
   ]
  },
  {
   "cell_type": "code",
   "execution_count": 5,
   "id": "8a98d77e",
   "metadata": {},
   "outputs": [],
   "source": [
    "y = np.array(y)"
   ]
  },
  {
   "cell_type": "code",
   "execution_count": 6,
   "id": "889400bd",
   "metadata": {},
   "outputs": [],
   "source": [
    "x_train, x_test, y_train, y_test = train_test_split(x, y, test_size=0.2)"
   ]
  },
  {
   "cell_type": "code",
   "execution_count": 7,
   "id": "7b1ab3f0",
   "metadata": {},
   "outputs": [
    {
     "data": {
      "text/plain": [
       "(3269, 30000)"
      ]
     },
     "execution_count": 7,
     "metadata": {},
     "output_type": "execute_result"
    }
   ],
   "source": [
    "x_train.shape"
   ]
  },
  {
   "cell_type": "code",
   "execution_count": 8,
   "id": "8bf0c3a6",
   "metadata": {},
   "outputs": [
    {
     "data": {
      "text/plain": [
       "(3269, 2)"
      ]
     },
     "execution_count": 8,
     "metadata": {},
     "output_type": "execute_result"
    }
   ],
   "source": [
    "y_train.shape"
   ]
  },
  {
   "cell_type": "code",
   "execution_count": 9,
   "id": "d44e51e2",
   "metadata": {},
   "outputs": [
    {
     "data": {
      "text/plain": [
       "(818, 30000)"
      ]
     },
     "execution_count": 9,
     "metadata": {},
     "output_type": "execute_result"
    }
   ],
   "source": [
    "x_test.shape"
   ]
  },
  {
   "cell_type": "code",
   "execution_count": 10,
   "id": "f44fb804",
   "metadata": {},
   "outputs": [
    {
     "data": {
      "text/plain": [
       "(818, 2)"
      ]
     },
     "execution_count": 10,
     "metadata": {},
     "output_type": "execute_result"
    }
   ],
   "source": [
    "y_test.shape"
   ]
  },
  {
   "cell_type": "code",
   "execution_count": 11,
   "id": "9712d129",
   "metadata": {},
   "outputs": [],
   "source": [
    "import tensorflow as tf"
   ]
  },
  {
   "cell_type": "code",
   "execution_count": 12,
   "id": "e21b525e",
   "metadata": {},
   "outputs": [],
   "source": [
    "from keras.models import Sequential\n",
    "from keras.layers import Dense"
   ]
  },
  {
   "cell_type": "code",
   "execution_count": 23,
   "id": "770340b2",
   "metadata": {},
   "outputs": [],
   "source": [
    "model = Sequential()\n",
    "model.add(Dense(32, input_dim=30000, kernel_initializer='he_uniform', activation='relu'))\n",
    "model.add(Dense(2, kernel_initializer='he_uniform'))\n",
    "model.compile(loss='mae', optimizer='adam', metrics=['accuracy'])"
   ]
  },
  {
   "cell_type": "code",
   "execution_count": 24,
   "id": "1b6be700",
   "metadata": {},
   "outputs": [
    {
     "data": {
      "text/plain": [
       "<keras.callbacks.History at 0x18b08767ac0>"
      ]
     },
     "execution_count": 24,
     "metadata": {},
     "output_type": "execute_result"
    }
   ],
   "source": [
    "model.fit(x, y, verbose=0, epochs=100)"
   ]
  },
  {
   "cell_type": "code",
   "execution_count": 25,
   "id": "0f7efecb",
   "metadata": {},
   "outputs": [
    {
     "name": "stdout",
     "output_type": "stream",
     "text": [
      "128/128 [==============================] - 2s 9ms/step - loss: 86.7927 - accuracy: 0.8950\n"
     ]
    },
    {
     "data": {
      "text/plain": [
       "[86.7927474975586, 0.8950330018997192]"
      ]
     },
     "execution_count": 25,
     "metadata": {},
     "output_type": "execute_result"
    }
   ],
   "source": [
    "model.evaluate(x = x, y = y)"
   ]
  },
  {
   "cell_type": "code",
   "execution_count": 26,
   "id": "6eef4d78",
   "metadata": {},
   "outputs": [],
   "source": [
    "predictions = model.predict(x_test)"
   ]
  },
  {
   "cell_type": "code",
   "execution_count": 27,
   "id": "9b8e6201",
   "metadata": {},
   "outputs": [
    {
     "data": {
      "text/plain": [
       "array([[ 554.7734 ,  605.2069 ],\n",
       "       [ 943.322  ,  182.81772],\n",
       "       [ 907.9831 ,  632.089  ],\n",
       "       ...,\n",
       "       [ 707.85443,  246.08292],\n",
       "       [ 690.8155 ,  323.2139 ],\n",
       "       [1366.4487 ,  298.50616]], dtype=float32)"
      ]
     },
     "execution_count": 27,
     "metadata": {},
     "output_type": "execute_result"
    }
   ],
   "source": [
    "predictions"
   ]
  },
  {
   "cell_type": "code",
   "execution_count": 28,
   "id": "f70bcb35",
   "metadata": {},
   "outputs": [
    {
     "data": {
      "text/plain": [
       "array([[ 499,  667],\n",
       "       [ 923,  243],\n",
       "       [ 942,  719],\n",
       "       ...,\n",
       "       [ 785,  244],\n",
       "       [1340,  340],\n",
       "       [1245,  369]])"
      ]
     },
     "execution_count": 28,
     "metadata": {},
     "output_type": "execute_result"
    }
   ],
   "source": [
    "y_test"
   ]
  },
  {
   "cell_type": "code",
   "execution_count": 29,
   "id": "579a552c",
   "metadata": {},
   "outputs": [
    {
     "name": "stdout",
     "output_type": "stream",
     "text": [
      "Saved model to disk\n"
     ]
    }
   ],
   "source": [
    "model_json = model.to_json()\n",
    "with open(\"model.json\", \"w\") as json_file:\n",
    "    json_file.write(model_json)\n",
    "\n",
    "model.save_weights(\"model.h5\")\n",
    "print(\"Saved model to disk\")"
   ]
  },
  {
   "cell_type": "code",
   "execution_count": 2,
   "id": "477384a7",
   "metadata": {},
   "outputs": [],
   "source": [
    "from keras.models import model_from_json"
   ]
  },
  {
   "cell_type": "code",
   "execution_count": 3,
   "id": "dd8df9ea",
   "metadata": {},
   "outputs": [
    {
     "name": "stdout",
     "output_type": "stream",
     "text": [
      "Loaded model from disk\n"
     ]
    }
   ],
   "source": [
    "json_file = open('model.json', 'r')\n",
    "loaded_model_json = json_file.read()\n",
    "json_file.close()\n",
    "loaded_model = model_from_json(loaded_model_json)\n",
    "\n",
    "loaded_model.load_weights(\"model.h5\")\n",
    "print(\"Loaded model from disk\")"
   ]
  },
  {
   "cell_type": "code",
   "execution_count": 1,
   "id": "1555c4f8",
   "metadata": {},
   "outputs": [],
   "source": [
    "from tkinter import * \n",
    "import threading\n",
    "import random"
   ]
  },
  {
   "cell_type": "code",
   "execution_count": 2,
   "id": "89959781",
   "metadata": {},
   "outputs": [
    {
     "name": "stdout",
     "output_type": "stream",
     "text": [
      "Loaded model from disk\n"
     ]
    }
   ],
   "source": [
    "from keras.models import model_from_json\n",
    "from tkinter import * \n",
    "import threading\n",
    "import pandas as pd\n",
    "import numpy as np\n",
    "import cv2\n",
    "import os\n",
    "\n",
    "json_file = open('model.json', 'r')\n",
    "loaded_model_json = json_file.read()\n",
    "json_file.close()\n",
    "loaded_model = model_from_json(loaded_model_json)\n",
    "\n",
    "loaded_model.load_weights(\"model.h5\")\n",
    "print(\"Loaded model from disk\")"
   ]
  },
  {
   "cell_type": "code",
   "execution_count": 3,
   "id": "3a23fd64",
   "metadata": {},
   "outputs": [],
   "source": [
    "x_predict = 0\n",
    "y_predict = 0\n",
    "\n",
    "face_cascade = cv2.CascadeClassifier(cv2.data.haarcascades +'haarcascade_frontalface_default.xml')\n",
    "eye_cascade = cv2.CascadeClassifier(cv2.data.haarcascades +'haarcascade_eye.xml')\n",
    "\n",
    "cap = cv2.VideoCapture(0)\n",
    "_, img = cap.read()\n",
    "\n",
    "def show_frame():\n",
    "    global img, x_predict, y_predict\n",
    "    while True:\n",
    "        _, img = cap.read()\n",
    "#         gray_frame = cv2.cvtColor(img, cv2.COLOR_BGR2GRAY)\n",
    "        faces = face_cascade.detectMultiScale(img, 1.3, 5)\n",
    "        for (x,y,w,h) in faces:\n",
    "            roi_gray = img[y:y+h, x:x+w]\n",
    "            eyes = eye_cascade.detectMultiScale(roi_gray, 1.3, 5) # detect eyes\n",
    "            width = np.size(roi_gray, 1) # get face frame width\n",
    "            height = np.size(roi_gray, 0) # get face frame height\n",
    "            for (x, y, w, h) in eyes:\n",
    "                if y > height / 2:\n",
    "                    pass\n",
    "                eyecenter = x + w / 2  # get the eye center\n",
    "                if eyecenter < width * 0.5:\n",
    "                    left_eye = roi_gray[y:y + h, x:x + w]\n",
    "                    left_eye = cv2.resize(left_eye, dsize=(100, 100))\n",
    "                    cv2.imshow(\"eye\", left_eye)\n",
    "                    left_eye = np.array(left_eye).reshape(-1, 30000)\n",
    "                    left_eye = left_eye.astype('float32')\n",
    "                    left_eye /= 255\n",
    "                    prediction = loaded_model.predict([left_eye])\n",
    "                    x_predict = prediction[0][0]\n",
    "                    y_predict = prediction[0][1]\n",
    "        interrupt = cv2.waitKey(10)\n",
    "        if interrupt & 0xFF == 27: # esc key\n",
    "            break\n",
    "\n",
    "def tkinter_frame():\n",
    "    global myCanvas\n",
    "    frame = Tk()  \n",
    "    frame.attributes('-fullscreen',True) \n",
    "    \n",
    "    myCanvas = Canvas(frame)\n",
    "    myCanvas.pack(fill=BOTH, expand=True)\n",
    "    \n",
    "    frame.mainloop()\n",
    "\n",
    "def pointer():\n",
    "    global x_predict, y_predict\n",
    "    while True:\n",
    "        create_circle(x_predict, y_predict, 20)\n",
    "        \n",
    "def create_circle(x, y, r): #center coordinates, radius\n",
    "    global myCanvas\n",
    "    x0 = x - r\n",
    "    y0 = y - r\n",
    "    x1 = x + r\n",
    "    y1 = y + r\n",
    "    try:\n",
    "        dot = myCanvas.create_oval(x0, y0, x1, y1, fill=\"red\")  \n",
    "    except:\n",
    "        pass\n",
    "        \n",
    "\n",
    "t1 = threading.Thread(target=show_frame)\n",
    "t2 = threading.Thread(target=tkinter_frame)\n",
    "t3 = threading.Thread(target=pointer)\n",
    "\n",
    "# starting thread 1\n",
    "t1.start()\n",
    "# starting thread 2\n",
    "t2.start()\n",
    "t3.start()\n",
    "\n",
    "# wait until thread 1 is completely executed\n",
    "# t1.join()\n",
    "# wait until thread 2 is completely executed\n",
    "t2.join() "
   ]
  },
  {
   "cell_type": "code",
   "execution_count": null,
   "id": "0ec9767b",
   "metadata": {},
   "outputs": [],
   "source": []
  }
 ],
 "metadata": {
  "kernelspec": {
   "display_name": "Python 3",
   "language": "python",
   "name": "python3"
  },
  "language_info": {
   "codemirror_mode": {
    "name": "ipython",
    "version": 3
   },
   "file_extension": ".py",
   "mimetype": "text/x-python",
   "name": "python",
   "nbconvert_exporter": "python",
   "pygments_lexer": "ipython3",
   "version": "3.8.8"
  }
 },
 "nbformat": 4,
 "nbformat_minor": 5
}
